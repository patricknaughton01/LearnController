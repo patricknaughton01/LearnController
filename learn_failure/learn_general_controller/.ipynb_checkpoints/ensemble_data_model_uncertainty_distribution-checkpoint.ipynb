{
 "cells": [
  {
   "cell_type": "code",
   "execution_count": null,
   "metadata": {},
   "outputs": [],
   "source": [
    "import numpy as np\n",
    "import matplotlib.pyplot as plt"
   ]
  },
  {
   "cell_type": "code",
   "execution_count": null,
   "metadata": {},
   "outputs": [],
   "source": [
    "parent_path = 'pred/feed_in_gt/'\n",
    "seed = 1234\n",
    "bootstrap = True\n",
    "num_lstms = 1\n",
    "k = 5\n",
    "M = 5\n",
    "length_scale = 0\n",
    "T = 100\n",
    "tao = 1.0\n",
    "dropout = 0\n",
    "exp = 1\n",
    "postfix = \"_seed_%d_bootstrap_%s_lstm_%d_k_%d_M_%d_length_scale_%.4f_T_%d_tao_%.4f_dropout_%.4f_exp_%d.npy\" % (\n",
    "                seed, str(bootstrap), num_lstms, k, M, length_scale, T, tao, dropout, exp) "
   ]
  },
  {
   "cell_type": "code",
   "execution_count": null,
   "metadata": {},
   "outputs": [],
   "source": [
    "train_data_uncertainty = np.load(parent_path + 'train_data_uncertainty' + postfix)\n",
    "train_model_uncertainty = np.load(parent_path + 'train_model_uncertainty' + postfix)\n",
    "\n",
    "val_data_uncertainty = np.load(parent_path + 'val_data_uncertainty' + postfix)\n",
    "val_model_uncertainty = np.load(parent_path + 'val_model_uncertainty' + postfix)\n",
    "\n",
    "train_seq_lengths = np.load(parent_path + 'train_seq_lengths' + postfix)\n",
    "val_seq_lengths = np.load(parent_path + 'val_seq_lengths' + postfix)"
   ]
  },
  {
   "cell_type": "code",
   "execution_count": null,
   "metadata": {},
   "outputs": [],
   "source": [
    "def get_variance(seq_lengths, cov):\n",
    "    sigma_x = []\n",
    "    sigma_y = []\n",
    "    for i, seq_len in enumerate(seq_lengths):\n",
    "        sigma_x.append(cov[0:seq_len, i, 0:1, 0])\n",
    "        sigma_y.append(cov[0:seq_len, i, 1:2, 1])\n",
    "    sigma_x = np.vstack(sigma_x)\n",
    "    sigma_y = np.vstack(sigma_y)\n",
    "    return np.hstack((sigma_x, sigma_y))"
   ]
  },
  {
   "cell_type": "code",
   "execution_count": null,
   "metadata": {},
   "outputs": [],
   "source": [
    "train_data_uncertainty = get_variance(train_seq_lengths, train_data_uncertainty)\n",
    "train_model_uncertainty = get_variance(train_seq_lengths, train_model_uncertainty)\n",
    "\n",
    "val_data_uncertainty = get_variance(val_seq_lengths, val_data_uncertainty)\n",
    "val_model_uncertainty = get_variance(val_seq_lengths, val_model_uncertainty)"
   ]
  },
  {
   "cell_type": "code",
   "execution_count": null,
   "metadata": {},
   "outputs": [],
   "source": [
    "plt.figure(figsize=(8, 6))\n",
    "plt.hist(train_data_uncertainty[:, 0], bins=100, range=(0, 0.2))\n",
    "plt.title('train data uncertainty distribution on x axis')\n",
    "plt.show()"
   ]
  },
  {
   "cell_type": "code",
   "execution_count": null,
   "metadata": {},
   "outputs": [],
   "source": [
    "plt.figure(figsize=(8, 6))\n",
    "plt.hist(train_data_uncertainty[:, 1], bins=100, range=(0, 0.2))\n",
    "plt.title('train data uncertainty distribution on y axis')\n",
    "plt.show()"
   ]
  },
  {
   "cell_type": "code",
   "execution_count": null,
   "metadata": {},
   "outputs": [],
   "source": [
    "plt.figure(figsize=(8, 6))\n",
    "plt.hist(train_model_uncertainty[:, 0], bins=100, range=(0, 0.2))\n",
    "plt.title('train model uncertainty distribution on x axis')\n",
    "plt.show()"
   ]
  },
  {
   "cell_type": "code",
   "execution_count": null,
   "metadata": {},
   "outputs": [],
   "source": [
    "plt.figure(figsize=(8, 6))\n",
    "plt.hist(train_model_uncertainty[:, 1], bins=100, range=(0, 0.2))\n",
    "plt.title('train model uncertainty distribution on y axis')\n",
    "plt.show()"
   ]
  },
  {
   "cell_type": "code",
   "execution_count": null,
   "metadata": {},
   "outputs": [],
   "source": [
    "plt.figure(figsize=(8, 6))\n",
    "plt.hist(val_data_uncertainty[:, 0], bins=100, range=(0, 0.2))\n",
    "plt.title('val data uncertainty distribution on x axis')\n",
    "plt.show()"
   ]
  },
  {
   "cell_type": "code",
   "execution_count": null,
   "metadata": {},
   "outputs": [],
   "source": [
    "plt.figure(figsize=(8, 6))\n",
    "plt.hist(val_data_uncertainty[:, 1], bins=100, range=(0, 0.2))\n",
    "plt.title('val data uncertainty distribution on y axis')\n",
    "plt.show()"
   ]
  },
  {
   "cell_type": "code",
   "execution_count": null,
   "metadata": {},
   "outputs": [],
   "source": [
    "plt.figure(figsize=(8, 6))\n",
    "plt.hist(val_model_uncertainty[:, 0], bins=100, range=(0, 0.2))\n",
    "plt.title('val model uncertainty distribution on x axis')\n",
    "plt.show()"
   ]
  },
  {
   "cell_type": "code",
   "execution_count": null,
   "metadata": {},
   "outputs": [],
   "source": [
    "plt.figure(figsize=(8, 6))\n",
    "plt.hist(val_model_uncertainty[:, 1], bins=100, range=(0, 0.2))\n",
    "plt.title('val model uncertainty distribution on y axis')\n",
    "plt.show()"
   ]
  },
  {
   "cell_type": "code",
   "execution_count": null,
   "metadata": {},
   "outputs": [],
   "source": []
  }
 ],
 "metadata": {
  "kernelspec": {
   "display_name": "Python [conda env:anaconda]",
   "language": "python",
   "name": "conda-env-anaconda-py"
  },
  "language_info": {
   "codemirror_mode": {
    "name": "ipython",
    "version": 3
   },
   "file_extension": ".py",
   "mimetype": "text/x-python",
   "name": "python",
   "nbconvert_exporter": "python",
   "pygments_lexer": "ipython3",
   "version": "3.5.4"
  }
 },
 "nbformat": 4,
 "nbformat_minor": 2
}
